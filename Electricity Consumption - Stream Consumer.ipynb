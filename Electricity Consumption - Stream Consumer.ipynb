{
 "cells": [
  {
   "cell_type": "code",
   "execution_count": 1,
   "metadata": {},
   "outputs": [],
   "source": [
    "# Importing libraries\n",
    "\n",
    "import os\n",
    "import io\n",
    "import time\n",
    "import json\n",
    "import struct\n",
    "import requests \n",
    "\n",
    "from pyspark.sql import SparkSession\n",
    "from pyspark.sql.functions import *\n",
    "from pyspark.sql.types import *\n",
    "from pyspark.streaming import StreamingContext"
   ]
  },
  {
   "cell_type": "code",
   "execution_count": 2,
   "metadata": {},
   "outputs": [],
   "source": [
    "# Environment set-up\n",
    "os.environ['PYSPARK_SUBMIT_ARGS'] = '--packages org.apache.spark:spark-sql-kafka-0-10_2.12:3.0.1,org.apache.spark:spark-streaming-kafka-0-10_2.11:2.4.5,org.apache.kafka:kafka-clients:2.6.0 pyspark-shell'"
   ]
  },
  {
   "cell_type": "code",
   "execution_count": 3,
   "metadata": {},
   "outputs": [
    {
     "data": {
      "text/html": [
       "\n",
       "            <div>\n",
       "                <p><b>SparkSession - in-memory</b></p>\n",
       "                \n",
       "        <div>\n",
       "            <p><b>SparkContext</b></p>\n",
       "\n",
       "            <p><a href=\"http://75f021c6f5c5:4040\">Spark UI</a></p>\n",
       "\n",
       "            <dl>\n",
       "              <dt>Version</dt>\n",
       "                <dd><code>v3.0.1</code></dd>\n",
       "              <dt>Master</dt>\n",
       "                <dd><code>local[*]</code></dd>\n",
       "              <dt>AppName</dt>\n",
       "                <dd><code>Electricity Consumption App</code></dd>\n",
       "            </dl>\n",
       "        </div>\n",
       "        \n",
       "            </div>\n",
       "        "
      ],
      "text/plain": [
       "<pyspark.sql.session.SparkSession at 0x7f26ec9e8910>"
      ]
     },
     "execution_count": 3,
     "metadata": {},
     "output_type": "execute_result"
    }
   ],
   "source": [
    "# Creating Spark session\n",
    "spark = (SparkSession.builder.master(\"local[*]\").appName(\"Electricity Consumption App\").getOrCreate())\n",
    "spark"
   ]
  },
  {
   "cell_type": "code",
   "execution_count": 4,
   "metadata": {},
   "outputs": [],
   "source": [
    "# Specifying server and topic\n",
    "topic = \"Elec_Cons_Topic\" # Same as topic in Stream Generator\n",
    "servers = \"kafka:9092\" # Same as server in Stream Generator"
   ]
  },
  {
   "cell_type": "code",
   "execution_count": 5,
   "metadata": {},
   "outputs": [],
   "source": [
    "Electricity_Cons_sdf = (spark\n",
    "  .readStream # readStream, not read since we want a streaming df\n",
    "  .format(\"kafka\")\n",
    "  .option(\"kafka.bootstrap.servers\", servers)\n",
    "  .option(\"startingOffsets\", \"earliest\")\n",
    "  .option(\"subscribe\", topic)\n",
    "  .load())"
   ]
  },
  {
   "cell_type": "code",
   "execution_count": 6,
   "metadata": {},
   "outputs": [
    {
     "data": {
      "text/plain": [
       "True"
      ]
     },
     "execution_count": 6,
     "metadata": {},
     "output_type": "execute_result"
    }
   ],
   "source": [
    "# DEBUG - We want a streaming data frame\n",
    "Electricity_Cons_sdf.isStreaming"
   ]
  },
  {
   "cell_type": "code",
   "execution_count": 7,
   "metadata": {},
   "outputs": [
    {
     "data": {
      "text/plain": [
       "DataFrame[key: binary, value: binary, topic: string, partition: int, offset: bigint, timestamp: timestamp, timestampType: int]"
      ]
     },
     "execution_count": 7,
     "metadata": {},
     "output_type": "execute_result"
    }
   ],
   "source": [
    "# DEBUG: sdf types\n",
    "Electricity_Cons_sdf"
   ]
  },
  {
   "cell_type": "code",
   "execution_count": 8,
   "metadata": {},
   "outputs": [],
   "source": [
    "# Converting binaries into strings\n",
    "Electricity_Cons_sdf = Electricity_Cons_sdf.selectExpr(\"CAST(key AS STRING)\", \"CAST(value AS STRING)\")"
   ]
  },
  {
   "cell_type": "code",
   "execution_count": 9,
   "metadata": {},
   "outputs": [
    {
     "name": "stdout",
     "output_type": "stream",
     "text": [
      "root\n",
      " |-- key: string (nullable = true)\n",
      " |-- value: string (nullable = true)\n",
      "\n"
     ]
    }
   ],
   "source": [
    "# DEBUG: sdf types\n",
    "Electricity_Cons_sdf.printSchema()"
   ]
  },
  {
   "cell_type": "code",
   "execution_count": 10,
   "metadata": {},
   "outputs": [],
   "source": [
    "# Defining the sdf schema\n",
    "Electricity_Cons_schema = StructType([StructField(\"ElectricityConsumption\", DoubleType(), True),\n",
    "                                      StructField(\"ts\", TimestampType(), True)])"
   ]
  },
  {
   "cell_type": "code",
   "execution_count": 11,
   "metadata": {},
   "outputs": [],
   "source": [
    "# Applying the schema\n",
    "Electricity_Cons_sdf = (Electricity_Cons_sdf\n",
    "                      .select(col(\"key\").cast(\"string\"), from_json(col(\"value\"), Electricity_Cons_schema).alias(\"value\"))\n",
    "                      .select(\"key\",\"value.*\"))"
   ]
  },
  {
   "cell_type": "code",
   "execution_count": 12,
   "metadata": {},
   "outputs": [
    {
     "name": "stdout",
     "output_type": "stream",
     "text": [
      "root\n",
      " |-- key: string (nullable = true)\n",
      " |-- ElectricityConsumption: double (nullable = true)\n",
      " |-- ts: timestamp (nullable = true)\n",
      "\n"
     ]
    }
   ],
   "source": [
    "# DEBUG: sdf types\n",
    "Electricity_Cons_sdf.printSchema()"
   ]
  },
  {
   "cell_type": "code",
   "execution_count": 13,
   "metadata": {},
   "outputs": [],
   "source": [
    "# Checking Kafka-Spark connection\n",
    "basic_query = (Electricity_Cons_sdf\n",
    "    .writeStream\n",
    "    .format(\"memory\") # this is for debug purpose only! DO NOT USE IN PRODUCTION\n",
    "    .queryName(\"sinkTable\")\n",
    "    .start())"
   ]
  },
  {
   "cell_type": "code",
   "execution_count": 22,
   "metadata": {},
   "outputs": [
    {
     "name": "stdout",
     "output_type": "stream",
     "text": [
      "+---+----------------------+-------------------+\n",
      "|key|ElectricityConsumption|                 ts|\n",
      "+---+----------------------+-------------------+\n",
      "|EC1|                 950.0|2022-10-31 14:39:40|\n",
      "|EC1|                 939.0|2022-10-31 14:39:51|\n",
      "|EC1|                 943.0|2022-10-31 14:40:01|\n",
      "|EC1|                 971.0|2022-10-31 14:40:11|\n",
      "|EC1|                1014.0|2022-10-31 14:40:21|\n",
      "|EC1|                1041.0|2022-10-31 14:40:31|\n",
      "|EC1|                1023.0|2022-10-31 14:40:41|\n",
      "|EC1|                1030.0|2022-10-31 14:40:51|\n",
      "|EC1|                1004.0|2022-10-31 14:41:01|\n",
      "|EC1|                 995.0|2022-10-31 14:41:11|\n",
      "+---+----------------------+-------------------+\n",
      "only showing top 10 rows\n",
      "\n"
     ]
    }
   ],
   "source": [
    "spark.sql(\"SELECT * FROM sinkTable\").show(10)"
   ]
  },
  {
   "cell_type": "code",
   "execution_count": 15,
   "metadata": {},
   "outputs": [],
   "source": [
    "# create a logic table on top of the streaming data frame\n",
    "Electricity_Cons_sdf.createTempView(\"AVG_Electricity_Consumption\")"
   ]
  },
  {
   "cell_type": "code",
   "execution_count": 16,
   "metadata": {},
   "outputs": [],
   "source": [
    "query_string = \"\"\"\n",
    "SELECT key, AVG(ElectricityConsumption) \n",
    "FROM AVG_Electricity_Consumption\n",
    "GROUP BY key\n",
    "\"\"\"\n",
    "\n",
    "# NB - Landmark window is used here, it will fill the memory and stop working! (All time a)\n",
    "q1 = (spark.sql(query_string)\n",
    "                     .writeStream\n",
    "                     .format(\"memory\")\n",
    "                     .outputMode(\"complete\")\n",
    "                     .queryName(\"AVG_Electricity_Consumption\")\n",
    "                     .start())"
   ]
  },
  {
   "cell_type": "code",
   "execution_count": 23,
   "metadata": {},
   "outputs": [
    {
     "name": "stdout",
     "output_type": "stream",
     "text": [
      "+---+---------------------------+\n",
      "|key|avg(ElectricityConsumption)|\n",
      "+---+---------------------------+\n",
      "|EC1|                    1033.65|\n",
      "+---+---------------------------+\n",
      "\n"
     ]
    }
   ],
   "source": [
    "# look up the most recent results\n",
    "spark.sql(\"SELECT * FROM AVG_Electricity_Consumption\").show()"
   ]
  },
  {
   "cell_type": "code",
   "execution_count": 18,
   "metadata": {},
   "outputs": [],
   "source": [
    "# create a logic table on top of the streaming data frame\n",
    "Electricity_Cons_sdf.createTempView(\"AVG_Electricity_Consumption_2\")"
   ]
  },
  {
   "cell_type": "code",
   "execution_count": 19,
   "metadata": {},
   "outputs": [],
   "source": [
    "# Logical Tumbling Window - The average temperature of the last 30 seconds every 30 seconds (was 4 seconds in EPL)\n",
    "q2 = (Electricity_Cons_sdf\n",
    "                    .withWatermark(\"TS\", \"30 seconds\") # Last 30 seconds\n",
    "                    .groupBy(window(\"TS\", \"30 seconds\"),\"key\") # Every 30 seconds\n",
    "                    .avg(\"ElectricityConsumption\")\n",
    "                    .writeStream\n",
    "                    .format(\"memory\")\n",
    "                    .queryName(\"AVG_Electricity_Consumption_2\")\n",
    "                    .start())"
   ]
  },
  {
   "cell_type": "code",
   "execution_count": 24,
   "metadata": {},
   "outputs": [
    {
     "name": "stdout",
     "output_type": "stream",
     "text": [
      "+------------------------------------------+---+---------------------------+\n",
      "|window                                    |key|avg(ElectricityConsumption)|\n",
      "+------------------------------------------+---+---------------------------+\n",
      "|[2022-10-31 14:45:00, 2022-10-31 14:45:30]|EC1|1080.3333333333333         |\n",
      "|[2022-10-31 14:44:30, 2022-10-31 14:45:00]|EC1|1087.3333333333333         |\n",
      "|[2022-10-31 14:44:00, 2022-10-31 14:44:30]|EC1|1067.6666666666667         |\n",
      "|[2022-10-31 14:43:30, 2022-10-31 14:44:00]|EC1|1035.3333333333333         |\n",
      "|[2022-10-31 14:43:00, 2022-10-31 14:43:30]|EC1|1039.6666666666667         |\n",
      "+------------------------------------------+---+---------------------------+\n",
      "only showing top 5 rows\n",
      "\n"
     ]
    }
   ],
   "source": [
    "# look up the most recent results\n",
    "spark.sql(\"SELECT * FROM AVG_Electricity_Consumption_2 ORDER BY window DESC\").show(5,False)"
   ]
  },
  {
   "cell_type": "code",
   "execution_count": 21,
   "metadata": {},
   "outputs": [],
   "source": [
    "# Stopping queries\n",
    "# q1.stop()\n",
    "# q2.stop()"
   ]
  }
 ],
 "metadata": {
  "kernelspec": {
   "display_name": "Python 3",
   "language": "python",
   "name": "python3"
  },
  "language_info": {
   "codemirror_mode": {
    "name": "ipython",
    "version": 3
   },
   "file_extension": ".py",
   "mimetype": "text/x-python",
   "name": "python",
   "nbconvert_exporter": "python",
   "pygments_lexer": "ipython3",
   "version": "3.8.6"
  }
 },
 "nbformat": 4,
 "nbformat_minor": 4
}
